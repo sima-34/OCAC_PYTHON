{
 "cells": [
  {
   "cell_type": "code",
   "execution_count": 1,
   "id": "164c7bd5-6f43-42ec-9247-c392687a4685",
   "metadata": {},
   "outputs": [],
   "source": [
    "# import numpy\n",
    "import numpy as np\n"
   ]
  },
  {
   "cell_type": "code",
   "execution_count": 2,
   "id": "98503bea-8eae-4c13-b3c2-96141de8b31c",
   "metadata": {},
   "outputs": [],
   "source": [
    "#Importing Pandas library.\n",
    "import pandas as pd"
   ]
  },
  {
   "cell_type": "code",
   "execution_count": 4,
   "id": "183a56a4-5ae6-4aaf-8f08-89c215c74349",
   "metadata": {},
   "outputs": [
    {
     "data": {
      "text/plain": [
       "a    1\n",
       "b    2\n",
       "c    3\n",
       "dtype: int64"
      ]
     },
     "execution_count": 4,
     "metadata": {},
     "output_type": "execute_result"
    }
   ],
   "source": [
    "d = {'a':1,'b':2,'c':3}\n",
    "ser = pd.Series(data=d)\n",
    "ser"
   ]
  },
  {
   "cell_type": "code",
   "execution_count": 5,
   "id": "bbd39432-811e-4e93-9a7f-9187ec72faea",
   "metadata": {},
   "outputs": [
    {
     "data": {
      "text/plain": [
       "a    1.0\n",
       "y    NaN\n",
       "c    3.0\n",
       "dtype: float64"
      ]
     },
     "execution_count": 5,
     "metadata": {},
     "output_type": "execute_result"
    }
   ],
   "source": [
    "d= {'a':1, 'b':2, 'c':3}\n",
    "ser = pd.Series(data=d, index=['a', 'y', 'c'])\n",
    "ser"
   ]
  },
  {
   "cell_type": "code",
   "execution_count": 7,
   "id": "624bb06e-2066-4102-9045-02b57fe85c97",
   "metadata": {},
   "outputs": [
    {
     "name": "stdout",
     "output_type": "stream",
     "text": [
      "0    banana\n",
      "1        42\n",
      "dtype: object\n"
     ]
    }
   ],
   "source": [
    "I=['banana', 42]\n",
    "s = pd.Series(data=I)\n",
    "print(s)"
   ]
  },
  {
   "cell_type": "code",
   "execution_count": 8,
   "id": "3ddb2d48-c44d-4bfb-9aaf-d0590b03184f",
   "metadata": {},
   "outputs": [
    {
     "name": "stdout",
     "output_type": "stream",
     "text": [
      "a    banana\n",
      "b        42\n",
      "dtype: object\n"
     ]
    }
   ],
   "source": [
    "s = pd.Series(['banana', 42], index=['a','b'])\n",
    "print(s)"
   ]
  },
  {
   "cell_type": "code",
   "execution_count": 10,
   "id": "c31f9715-6fec-472e-946a-598208f863f3",
   "metadata": {},
   "outputs": [
    {
     "name": "stdout",
     "output_type": "stream",
     "text": [
      "Person         Wes McKinney\n",
      "Who       Creator of Pandas\n",
      "dtype: object\n"
     ]
    }
   ],
   "source": [
    "s = pd.Series(['Wes McKinney', 'Creator of Pandas'],index=['Person', 'Who'])\n",
    "print(s)"
   ]
  },
  {
   "cell_type": "code",
   "execution_count": 12,
   "id": "afff4d6e-99d3-4647-9774-9a1e0f52af6b",
   "metadata": {},
   "outputs": [
    {
     "name": "stdout",
     "output_type": "stream",
     "text": [
      "0    100\n",
      "1    200\n",
      "2    300\n",
      "3    400\n",
      "dtype: int64\n"
     ]
    }
   ],
   "source": [
    "# Creating a list of prices.\n",
    "pricelist=[100,200,300,400]\n",
    "\n",
    "#Creating a series.\n",
    "productseries=pd.Series(pricelist)\n",
    "\n",
    "#Displaying the series.\n",
    "print(productseries)"
   ]
  },
  {
   "cell_type": "code",
   "execution_count": 14,
   "id": "d6a3b578-18cf-487e-bb17-503c81a1e70d",
   "metadata": {},
   "outputs": [
    {
     "data": {
      "text/html": [
       "<div>\n",
       "<style scoped>\n",
       "    .dataframe tbody tr th:only-of-type {\n",
       "        vertical-align: middle;\n",
       "    }\n",
       "\n",
       "    .dataframe tbody tr th {\n",
       "        vertical-align: top;\n",
       "    }\n",
       "\n",
       "    .dataframe thead th {\n",
       "        text-align: right;\n",
       "    }\n",
       "</style>\n",
       "<table border=\"1\" class=\"dataframe\">\n",
       "  <thead>\n",
       "    <tr style=\"text-align: right;\">\n",
       "      <th></th>\n",
       "      <th>col1</th>\n",
       "      <th>col2</th>\n",
       "    </tr>\n",
       "  </thead>\n",
       "  <tbody>\n",
       "    <tr>\n",
       "      <th>0</th>\n",
       "      <td>1</td>\n",
       "      <td>3</td>\n",
       "    </tr>\n",
       "    <tr>\n",
       "      <th>1</th>\n",
       "      <td>2</td>\n",
       "      <td>4</td>\n",
       "    </tr>\n",
       "  </tbody>\n",
       "</table>\n",
       "</div>"
      ],
      "text/plain": [
       "   col1  col2\n",
       "0     1     3\n",
       "1     2     4"
      ]
     },
     "execution_count": 14,
     "metadata": {},
     "output_type": "execute_result"
    }
   ],
   "source": [
    "d = {'col1': [1,2], 'col2': [3,4]}\n",
    "df = pd.DataFrame(data=d)\n",
    "df"
   ]
  },
  {
   "cell_type": "code",
   "execution_count": null,
   "id": "bd86a9f9-e173-492c-b873-0d11dbb97aaf",
   "metadata": {},
   "outputs": [],
   "source": []
  },
  {
   "cell_type": "code",
   "execution_count": 15,
   "id": "26b94b06-4635-4b24-8163-403eb05dbb10",
   "metadata": {},
   "outputs": [
    {
     "data": {
      "text/plain": [
       "pandas.core.frame.DataFrame"
      ]
     },
     "execution_count": 15,
     "metadata": {},
     "output_type": "execute_result"
    }
   ],
   "source": [
    "type(df)"
   ]
  },
  {
   "cell_type": "code",
   "execution_count": 16,
   "id": "48ea1c78-ee92-48bd-ac65-b8c39456bec5",
   "metadata": {},
   "outputs": [
    {
     "name": "stdout",
     "output_type": "stream",
     "text": [
      "                Name    Occupation        Born        died  Age\n",
      "0  Rosaline Franklin       Chemist  1920-07-25  1958-04-16   37\n",
      "1     William Gosset  Statistician  1876-06-13  1937-10-16   61\n"
     ]
    }
   ],
   "source": [
    "scientists = pd.DataFrame({\n",
    "'Name': ['Rosaline Franklin','William Gosset'],\n",
    "'Occupation': ['Chemist', 'Statistician'],\n",
    "'Born':['1920-07-25', '1876-06-13'],\n",
    "'died': ['1958-04-16', '1937-10-16'],\n",
    "'Age': [37,61]})\n",
    "print(scientists)"
   ]
  },
  {
   "cell_type": "code",
   "execution_count": 17,
   "id": "409db4ee-b23d-4293-a07a-e814158d6e28",
   "metadata": {},
   "outputs": [
    {
     "name": "stdout",
     "output_type": "stream",
     "text": [
      "   Pen  Shirt  Book  Mouse\n",
      "0  100    200   300    400\n",
      "1    4      2     5      6\n"
     ]
    }
   ],
   "source": [
    "productdf = pd.DataFrame([[100,200,300,400],[4,2,5,6]],columns=['Pen', 'Shirt', 'Book', 'Mouse'])\n",
    "print(productdf)"
   ]
  },
  {
   "cell_type": "code",
   "execution_count": 21,
   "id": "91f08e61-95d7-4307-ac66-f3a239b1a493",
   "metadata": {},
   "outputs": [
    {
     "data": {
      "text/plain": [
       "(2, 4)"
      ]
     },
     "execution_count": 21,
     "metadata": {},
     "output_type": "execute_result"
    }
   ],
   "source": [
    "productdf.shape"
   ]
  },
  {
   "cell_type": "code",
   "execution_count": 22,
   "id": "48d41699-e3e7-4bbd-94fb-f31787066c57",
   "metadata": {},
   "outputs": [
    {
     "data": {
      "text/plain": [
       "8"
      ]
     },
     "execution_count": 22,
     "metadata": {},
     "output_type": "execute_result"
    }
   ],
   "source": [
    "productdf.size"
   ]
  },
  {
   "cell_type": "code",
   "execution_count": 23,
   "id": "4dd76234-dd61-4047-ae32-4ee81f9faa0c",
   "metadata": {},
   "outputs": [
    {
     "data": {
      "text/plain": [
       "Index(['Pen', 'Shirt', 'Book', 'Mouse'], dtype='object')"
      ]
     },
     "execution_count": 23,
     "metadata": {},
     "output_type": "execute_result"
    }
   ],
   "source": [
    "productdf.keys()"
   ]
  },
  {
   "cell_type": "code",
   "execution_count": 24,
   "id": "36459040-1d16-41f2-b1f0-404a020ea0b0",
   "metadata": {},
   "outputs": [
    {
     "data": {
      "text/plain": [
       "Index(['Pen', 'Shirt', 'Book', 'Mouse'], dtype='object')"
      ]
     },
     "execution_count": 24,
     "metadata": {},
     "output_type": "execute_result"
    }
   ],
   "source": [
    "productdf.columns"
   ]
  },
  {
   "cell_type": "code",
   "execution_count": 25,
   "id": "196c8a5b-7911-4bfc-8318-a5b4dad5f6db",
   "metadata": {},
   "outputs": [
    {
     "data": {
      "text/html": [
       "<div>\n",
       "<style scoped>\n",
       "    .dataframe tbody tr th:only-of-type {\n",
       "        vertical-align: middle;\n",
       "    }\n",
       "\n",
       "    .dataframe tbody tr th {\n",
       "        vertical-align: top;\n",
       "    }\n",
       "\n",
       "    .dataframe thead th {\n",
       "        text-align: right;\n",
       "    }\n",
       "</style>\n",
       "<table border=\"1\" class=\"dataframe\">\n",
       "  <thead>\n",
       "    <tr style=\"text-align: right;\">\n",
       "      <th></th>\n",
       "      <th>Pen</th>\n",
       "      <th>Shirt</th>\n",
       "      <th>Book</th>\n",
       "      <th>Mouse</th>\n",
       "      <th>Mobile</th>\n",
       "    </tr>\n",
       "  </thead>\n",
       "  <tbody>\n",
       "    <tr>\n",
       "      <th>0</th>\n",
       "      <td>100</td>\n",
       "      <td>200</td>\n",
       "      <td>300</td>\n",
       "      <td>400</td>\n",
       "      <td>15000</td>\n",
       "    </tr>\n",
       "    <tr>\n",
       "      <th>1</th>\n",
       "      <td>4</td>\n",
       "      <td>2</td>\n",
       "      <td>5</td>\n",
       "      <td>6</td>\n",
       "      <td>2</td>\n",
       "    </tr>\n",
       "  </tbody>\n",
       "</table>\n",
       "</div>"
      ],
      "text/plain": [
       "   Pen  Shirt  Book  Mouse  Mobile\n",
       "0  100    200   300    400   15000\n",
       "1    4      2     5      6       2"
      ]
     },
     "execution_count": 25,
     "metadata": {},
     "output_type": "execute_result"
    }
   ],
   "source": [
    "productdf[\"Mobile\"] =[15000,2]\n",
    "productdf"
   ]
  },
  {
   "cell_type": "code",
   "execution_count": 26,
   "id": "ecdb30dc-3082-4efb-893f-ae4f1274738e",
   "metadata": {},
   "outputs": [
    {
     "data": {
      "text/html": [
       "<div>\n",
       "<style scoped>\n",
       "    .dataframe tbody tr th:only-of-type {\n",
       "        vertical-align: middle;\n",
       "    }\n",
       "\n",
       "    .dataframe tbody tr th {\n",
       "        vertical-align: top;\n",
       "    }\n",
       "\n",
       "    .dataframe thead th {\n",
       "        text-align: right;\n",
       "    }\n",
       "</style>\n",
       "<table border=\"1\" class=\"dataframe\">\n",
       "  <thead>\n",
       "    <tr style=\"text-align: right;\">\n",
       "      <th></th>\n",
       "      <th>Pen</th>\n",
       "      <th>Shirt</th>\n",
       "      <th>Book</th>\n",
       "      <th>Mouse</th>\n",
       "    </tr>\n",
       "  </thead>\n",
       "  <tbody>\n",
       "    <tr>\n",
       "      <th>0</th>\n",
       "      <td>100</td>\n",
       "      <td>200</td>\n",
       "      <td>300</td>\n",
       "      <td>400</td>\n",
       "    </tr>\n",
       "    <tr>\n",
       "      <th>1</th>\n",
       "      <td>4</td>\n",
       "      <td>2</td>\n",
       "      <td>5</td>\n",
       "      <td>6</td>\n",
       "    </tr>\n",
       "  </tbody>\n",
       "</table>\n",
       "</div>"
      ],
      "text/plain": [
       "   Pen  Shirt  Book  Mouse\n",
       "0  100    200   300    400\n",
       "1    4      2     5      6"
      ]
     },
     "execution_count": 26,
     "metadata": {},
     "output_type": "execute_result"
    }
   ],
   "source": [
    "df2 = productdf.drop(\"Mobile\",axis=1)\n",
    "df2"
   ]
  },
  {
   "cell_type": "code",
   "execution_count": 27,
   "id": "2d5352f7-dc0b-4660-98a8-bd9e58bfc626",
   "metadata": {},
   "outputs": [
    {
     "data": {
      "text/html": [
       "<div>\n",
       "<style scoped>\n",
       "    .dataframe tbody tr th:only-of-type {\n",
       "        vertical-align: middle;\n",
       "    }\n",
       "\n",
       "    .dataframe tbody tr th {\n",
       "        vertical-align: top;\n",
       "    }\n",
       "\n",
       "    .dataframe thead th {\n",
       "        text-align: right;\n",
       "    }\n",
       "</style>\n",
       "<table border=\"1\" class=\"dataframe\">\n",
       "  <thead>\n",
       "    <tr style=\"text-align: right;\">\n",
       "      <th></th>\n",
       "      <th>Pen</th>\n",
       "      <th>Shirt</th>\n",
       "      <th>Book</th>\n",
       "      <th>Mouse</th>\n",
       "    </tr>\n",
       "  </thead>\n",
       "  <tbody>\n",
       "    <tr>\n",
       "      <th>0</th>\n",
       "      <td>100</td>\n",
       "      <td>200</td>\n",
       "      <td>300</td>\n",
       "      <td>400</td>\n",
       "    </tr>\n",
       "    <tr>\n",
       "      <th>1</th>\n",
       "      <td>4</td>\n",
       "      <td>2</td>\n",
       "      <td>5</td>\n",
       "      <td>6</td>\n",
       "    </tr>\n",
       "  </tbody>\n",
       "</table>\n",
       "</div>"
      ],
      "text/plain": [
       "   Pen  Shirt  Book  Mouse\n",
       "0  100    200   300    400\n",
       "1    4      2     5      6"
      ]
     },
     "execution_count": 27,
     "metadata": {},
     "output_type": "execute_result"
    }
   ],
   "source": [
    "df2 = productdf.drop(columns= [\"Mobile\"])\n",
    "df2"
   ]
  },
  {
   "cell_type": "code",
   "execution_count": 28,
   "id": "b1afda8e-7443-498e-8715-54d810f15649",
   "metadata": {},
   "outputs": [
    {
     "data": {
      "text/html": [
       "<div>\n",
       "<style scoped>\n",
       "    .dataframe tbody tr th:only-of-type {\n",
       "        vertical-align: middle;\n",
       "    }\n",
       "\n",
       "    .dataframe tbody tr th {\n",
       "        vertical-align: top;\n",
       "    }\n",
       "\n",
       "    .dataframe thead th {\n",
       "        text-align: right;\n",
       "    }\n",
       "</style>\n",
       "<table border=\"1\" class=\"dataframe\">\n",
       "  <thead>\n",
       "    <tr style=\"text-align: right;\">\n",
       "      <th></th>\n",
       "      <th>Pen</th>\n",
       "      <th>Shirt</th>\n",
       "      <th>Mouse</th>\n",
       "    </tr>\n",
       "  </thead>\n",
       "  <tbody>\n",
       "    <tr>\n",
       "      <th>0</th>\n",
       "      <td>100</td>\n",
       "      <td>200</td>\n",
       "      <td>400</td>\n",
       "    </tr>\n",
       "    <tr>\n",
       "      <th>1</th>\n",
       "      <td>4</td>\n",
       "      <td>2</td>\n",
       "      <td>6</td>\n",
       "    </tr>\n",
       "  </tbody>\n",
       "</table>\n",
       "</div>"
      ],
      "text/plain": [
       "   Pen  Shirt  Mouse\n",
       "0  100    200    400\n",
       "1    4      2      6"
      ]
     },
     "execution_count": 28,
     "metadata": {},
     "output_type": "execute_result"
    }
   ],
   "source": [
    "df2 = productdf.drop(columns= [\"Mobile\",'Book'])\n",
    "df2"
   ]
  },
  {
   "cell_type": "code",
   "execution_count": 29,
   "id": "8019e2bb-d4f6-4d3c-a022-bffea6101338",
   "metadata": {},
   "outputs": [
    {
     "data": {
      "text/html": [
       "<div>\n",
       "<style scoped>\n",
       "    .dataframe tbody tr th:only-of-type {\n",
       "        vertical-align: middle;\n",
       "    }\n",
       "\n",
       "    .dataframe tbody tr th {\n",
       "        vertical-align: top;\n",
       "    }\n",
       "\n",
       "    .dataframe thead th {\n",
       "        text-align: right;\n",
       "    }\n",
       "</style>\n",
       "<table border=\"1\" class=\"dataframe\">\n",
       "  <thead>\n",
       "    <tr style=\"text-align: right;\">\n",
       "      <th></th>\n",
       "      <th>Pen</th>\n",
       "      <th>Shirt</th>\n",
       "      <th>Book</th>\n",
       "      <th>Mouse</th>\n",
       "    </tr>\n",
       "  </thead>\n",
       "  <tbody>\n",
       "    <tr>\n",
       "      <th>0</th>\n",
       "      <td>100</td>\n",
       "      <td>200</td>\n",
       "      <td>300</td>\n",
       "      <td>400</td>\n",
       "    </tr>\n",
       "    <tr>\n",
       "      <th>1</th>\n",
       "      <td>4</td>\n",
       "      <td>2</td>\n",
       "      <td>5</td>\n",
       "      <td>6</td>\n",
       "    </tr>\n",
       "  </tbody>\n",
       "</table>\n",
       "</div>"
      ],
      "text/plain": [
       "   Pen  Shirt  Book  Mouse\n",
       "0  100    200   300    400\n",
       "1    4      2     5      6"
      ]
     },
     "execution_count": 29,
     "metadata": {},
     "output_type": "execute_result"
    }
   ],
   "source": [
    "productdf = productdf.drop(columns= [\"Mobile\"])\n",
    "productdf"
   ]
  },
  {
   "cell_type": "code",
   "execution_count": 30,
   "id": "1f3ac066-07ee-4f31-9e9c-bbf244c18c4b",
   "metadata": {},
   "outputs": [
    {
     "data": {
      "text/html": [
       "<div>\n",
       "<style scoped>\n",
       "    .dataframe tbody tr th:only-of-type {\n",
       "        vertical-align: middle;\n",
       "    }\n",
       "\n",
       "    .dataframe tbody tr th {\n",
       "        vertical-align: top;\n",
       "    }\n",
       "\n",
       "    .dataframe thead th {\n",
       "        text-align: right;\n",
       "    }\n",
       "</style>\n",
       "<table border=\"1\" class=\"dataframe\">\n",
       "  <thead>\n",
       "    <tr style=\"text-align: right;\">\n",
       "      <th></th>\n",
       "      <th>Pen</th>\n",
       "      <th>Shirt</th>\n",
       "      <th>Mouse</th>\n",
       "    </tr>\n",
       "  </thead>\n",
       "  <tbody>\n",
       "    <tr>\n",
       "      <th>1</th>\n",
       "      <td>4</td>\n",
       "      <td>2</td>\n",
       "      <td>6</td>\n",
       "    </tr>\n",
       "  </tbody>\n",
       "</table>\n",
       "</div>"
      ],
      "text/plain": [
       "   Pen  Shirt  Mouse\n",
       "1    4      2      6"
      ]
     },
     "execution_count": 30,
     "metadata": {},
     "output_type": "execute_result"
    }
   ],
   "source": [
    "df3=df2.drop(index=[0])\n",
    "df3"
   ]
  },
  {
   "cell_type": "code",
   "execution_count": null,
   "id": "aa8c61fa-7bf7-4e3e-9a07-252481c36b20",
   "metadata": {},
   "outputs": [],
   "source": []
  }
 ],
 "metadata": {
  "kernelspec": {
   "display_name": "Python 3 (ipykernel)",
   "language": "python",
   "name": "python3"
  },
  "language_info": {
   "codemirror_mode": {
    "name": "ipython",
    "version": 3
   },
   "file_extension": ".py",
   "mimetype": "text/x-python",
   "name": "python",
   "nbconvert_exporter": "python",
   "pygments_lexer": "ipython3",
   "version": "3.11.7"
  }
 },
 "nbformat": 4,
 "nbformat_minor": 5
}
